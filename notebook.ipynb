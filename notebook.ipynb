{
 "cells": [
  {
   "cell_type": "code",
   "execution_count": null,
   "id": "e88564b3-5145-4ef2-a3cb-c3148abe7803",
   "metadata": {},
   "outputs": [],
   "source": [
    "import json\n",
    "import numpy as np\n",
    "import pandas as pd\n",
    "import seaborn as sns\n",
    "import matplotlib.pyplot as plt"
   ]
  },
  {
   "cell_type": "code",
   "execution_count": null,
   "id": "cf8db1f6-2410-4f94-bb56-346f910d8026",
   "metadata": {},
   "outputs": [],
   "source": [
    "with open('config.json', 'r') as f:\n",
    "    conf = json.load(f)\n",
    "vals = list(conf['cols']['values'].keys())\n",
    "meta = conf['cols']['meta']\n",
    "cols = vals + meta"
   ]
  },
  {
   "cell_type": "code",
   "execution_count": null,
   "id": "fa85646e-d385-4afb-95cb-3160d2381aa6",
   "metadata": {},
   "outputs": [],
   "source": [
    "# helpers\n",
    "get_avg = lambda w, v: np.sum((w * v.T).T, axis=0) / np.sum(w)\n",
    "get_var = lambda w, v: np.sum((w * ((v - get_means(w, v)) ** 2).T).T, axis=0) / np.sum(w)\n",
    "\n",
    "def z_score(Y, C):\n",
    "    avg_avg = np.zeros(21)\n",
    "    avg_var = np.zeros(21)\n",
    "    for c in C:\n",
    "        avg_avg += list(Y[c]['avg'].values())[0] / len(C)\n",
    "        avg_var += list(Y[c]['var'].values())[0] / len(C)\n",
    "    \n",
    "    var_avg = np.zeros(21)\n",
    "    var_var = np.zeros(21)\n",
    "    for c in C:\n",
    "        var_avg += ((list(Y[c]['avg'].values())[0] - avg_avg) ** 2) / len(C)\n",
    "        var_var += ((list(Y[c]['var'].values())[0] - avg_var) ** 2) / len(C)\n",
    "\n",
    "        \n",
    "    for k1, v1 in Y.items():\n",
    "        for k2, v2 in v1['avg'].items():\n",
    "            Y[k1]['avg'][k2] = ((v2 - avg_avg) / var_avg ** .5).tolist()\n",
    "        for k2, v2 in v1['var'].items():\n",
    "            Y[k1]['var'][k2] = ((v2 - avg_var) / var_var ** .5).tolist()\n",
    "    return Y"
   ]
  },
  {
   "cell_type": "code",
   "execution_count": null,
   "id": "aafcf93b-69ce-4a28-8b43-cc615c5a4b38",
   "metadata": {},
   "outputs": [],
   "source": [
    "ess          = pd.read_csv('data/ess/ESS8e02_2-ESS9e03_1-ESS10.csv', dtype='object', usecols=cols)\n",
    "ess          = ess[ess['dweight'].notna()]\n",
    "ess['cntry'] = ess['cntry'].apply(lambda x: x.lower())\n",
    "groups       = ess.groupby(['cntry', 'essround']).groups\n"
   ]
  },
  {
   "cell_type": "code",
   "execution_count": null,
   "id": "85e5bffa-9790-4fd6-bf94-1e36e13a46db",
   "metadata": {},
   "outputs": [],
   "source": [
    "Y = {cntry : {'avg': {}, 'var' : {}} for cntry in list(set(ess['cntry']))}\n",
    "for k, v in groups.items():\n",
    "    group   = ess.iloc[v]\n",
    "    values  = (group[vals].to_numpy()).astype(np.int64)\n",
    "    weights = (group['dweight'].to_numpy()).astype(np.float64)\n",
    "    avg     = get_avg(weights, values) # weigthed means for country round\n",
    "    var     = get_var(weights, values)\n",
    "    Y[k[0]]['avg'][k[1]] = avg\n",
    "    Y[k[0]]['var'][k[1]] = var\n",
    "Y = z_score(Y, list(set(ess['cntry']))[:7])    "
   ]
  },
  {
   "cell_type": "code",
   "execution_count": null,
   "id": "acebfe95-2eff-40c4-85a7-7da179ce957c",
   "metadata": {},
   "outputs": [],
   "source": [
    "with open('data/ess/ess.json', 'w') as f:\n",
    "    json.dump(Y, f)"
   ]
  },
  {
   "cell_type": "code",
   "execution_count": null,
   "id": "0aff9f66-f438-4bb0-89a5-78370d794e7a",
   "metadata": {},
   "outputs": [],
   "source": []
  }
 ],
 "metadata": {
  "kernelspec": {
   "display_name": "Python 3 (ipykernel)",
   "language": "python",
   "name": "python3"
  },
  "language_info": {
   "codemirror_mode": {
    "name": "ipython",
    "version": 3
   },
   "file_extension": ".py",
   "mimetype": "text/x-python",
   "name": "python",
   "nbconvert_exporter": "python",
   "pygments_lexer": "ipython3",
   "version": "3.7.13"
  }
 },
 "nbformat": 4,
 "nbformat_minor": 5
}
